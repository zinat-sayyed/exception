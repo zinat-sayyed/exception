{
 "cells": [
  {
   "cell_type": "code",
   "execution_count": 9,
   "id": "e91d27fb-91ab-4d43-9137-b27bbfa1e932",
   "metadata": {},
   "outputs": [
    {
     "name": "stdout",
     "output_type": "stream",
     "text": [
      "welcome python,world hello\n"
     ]
    }
   ],
   "source": [
    "#output2 : \"welcome python,world hello\"\n",
    "def reverse_words(sentence):\n",
    "    reversed_sentence = \" \".join(p.split(',')[-1].split()[::-1])+\",\" + \" \".join(p.split(',')[0].split()[::-1])\n",
    "    return reversed_sentence\n",
    "\n",
    "p = \"hello world ,python welcome\"\n",
    "output = reverse_words(p)\n",
    "print(output)"
   ]
  },
  {
   "cell_type": "code",
   "execution_count": 5,
   "id": "4361fa1c-8bca-44f4-82ef-1e6788cbcc26",
   "metadata": {},
   "outputs": [
    {
     "name": "stdout",
     "output_type": "stream",
     "text": [
      "world hello,welcome python\n"
     ]
    }
   ],
   "source": [
    "#output 1 : \"world hello,welcome python\"\n",
    "def reverse_words(sentence):\n",
    "    reversed_sentence = \" \".join(p.split(',')[0].split()[::-1])+\",\" + \" \".join(p.split(',')[1].split()[::-1])\n",
    "    return reversed_sentence\n",
    "\n",
    "p = \"hello world ,python welcome\"\n",
    "output = reverse_words(p)\n",
    "print(output)"
   ]
  },
  {
   "cell_type": "code",
   "execution_count": 49,
   "id": "71e4ba1b-db60-4cb5-92fc-29e3fd4499f7",
   "metadata": {},
   "outputs": [
    {
     "name": "stdout",
     "output_type": "stream",
     "text": [
      "Prime numbers: {67, 5}\n"
     ]
    }
   ],
   "source": [
    "#p = [5465546,8676,34,78765,62,3453,765,5,67,4,5,76,453,4,67,6453,454,65]prime numbers\n",
    "\n",
    "def find_primes(numbers):\n",
    "    prime_numbers = []\n",
    "    \n",
    "    for num in numbers:\n",
    "        if num > 1:  \n",
    "            for i in range(2, num):\n",
    "                if num % i == 0:\n",
    "                    break \n",
    "            else: \n",
    "                prime_numbers.append(num)\n",
    "    \n",
    "    return prime_numbers\n",
    "\n",
    "p = [5465546, 8676, 34, 78765, 62, 3453, 765, 5, 67, 4, 5, 76, 453, 4, 67, 6453, 454, 65]\n",
    "\n",
    "print(\"Prime numbers:\", set(find_primes(p)))\n"
   ]
  },
  {
   "cell_type": "code",
   "execution_count": 1,
   "id": "cbc2d0ba-2d27-4658-9ae0-65bcc0867cb3",
   "metadata": {},
   "outputs": [
    {
     "name": "stdout",
     "output_type": "stream",
     "text": [
      "[2, 3, 5, 7, 11, 13, 17, 19, 23, 29, 31, 37, 41, 43, 47, 53, 59, 61, 67, 71, 73, 79, 83, 89, 97]\n"
     ]
    }
   ],
   "source": [
    "#prime number 1-100\n",
    "def print_primes(start, end):\n",
    "    prime_list=[]\n",
    "    for num in range(start, end + 1):  \n",
    "        if num > 1:  # 1 is not a prime number\n",
    "            for i in range(2, num):  \n",
    "                if num % i == 0:  \n",
    "                    break  \n",
    "            else: \n",
    "                 prime_list.append(num)\n",
    "    return  prime_list     \n",
    "\n",
    "result= print_primes(1, 100)\n",
    "print(result)\n"
   ]
  },
  {
   "cell_type": "code",
   "execution_count": 77,
   "id": "a8ef2ea7-b516-45ba-90e7-fc60ec3da13c",
   "metadata": {},
   "outputs": [
    {
     "name": "stdout",
     "output_type": "stream",
     "text": [
      "Character = helloword\n",
      "Number = 123456\n",
      "Special char = @#$%\n"
     ]
    }
   ],
   "source": [
    "\n",
    "#Input string = 'hello123@#word456$%'\n",
    "#Expected Output:\n",
    "#Character= helloword\n",
    "#Number= 123456\n",
    "#Special char = @#$%\n",
    "def mix_string(p):\n",
    " num=[]\n",
    " ch=[]\n",
    " special=[]\n",
    " for i in p:\n",
    "    \n",
    "  if i.isnumeric():\n",
    "       num.append(i)\n",
    "  elif i.isalpha():\n",
    "        ch.append(i)\n",
    "  else:\n",
    "        special.append(i)\n",
    " return f\"Character = {''.join(ch)}\\nNumber = {''.join(num)}\\nSpecial char = {''.join(special)}\"\n",
    "\n",
    "p = 'hello123@#word456$%'   \n",
    "print(mix_string(p))\n"
   ]
  },
  {
   "cell_type": "code",
   "execution_count": 113,
   "id": "95f4358d-b86a-484c-b2f5-9be5f1d5af3a",
   "metadata": {},
   "outputs": [
    {
     "name": "stdout",
     "output_type": "stream",
     "text": [
      "@@@@@@@@@@\n",
      "I am zinat\n",
      "@@@@@@@@@@\n"
     ]
    }
   ],
   "source": [
    "#1.decorator 5 example\n",
    "\n",
    "def simple_decorator(func):\n",
    "    def wrapper():\n",
    "        print(\"@\"*10)\n",
    "        func()\n",
    "        print(\"@\"*10)\n",
    "    return wrapper\n",
    "\n",
    "@simple_decorator\n",
    "def my_name():\n",
    "    print(\"I am zinat\")\n",
    "    \n",
    "my_name()\n"
   ]
  },
  {
   "cell_type": "code",
   "execution_count": 131,
   "id": "5942bfe6-6336-4d72-9f09-f29680f3246b",
   "metadata": {},
   "outputs": [
    {
     "name": "stdout",
     "output_type": "stream",
     "text": [
      "Score: 85, Grade: B\n",
      "Score: 92, Grade: A\n",
      "Score: 70, Grade: C\n",
      "Score: 55, Grade: F\n"
     ]
    }
   ],
   "source": [
    "#2.decorator example addition program\n",
    "def grade_decorator(func):\n",
    "    def wrapper(score):\n",
    "        grade = func(score)\n",
    "        \n",
    "        if score >= 90:\n",
    "            grade = 'A'\n",
    "        elif score >= 80:\n",
    "            grade = 'B'\n",
    "        elif score >= 70:\n",
    "            grade = 'C'\n",
    "        elif score >= 60:\n",
    "            grade = 'D'\n",
    "        else:\n",
    "            grade = 'F'\n",
    "        \n",
    "        return f\"Score: {score}, Grade: {grade}\"\n",
    "    return wrapper\n",
    "\n",
    "@grade_decorator\n",
    "def get_grade(score):\n",
    "    return score \n",
    "\n",
    "print(get_grade(85)) \n",
    "print(get_grade(92))  \n",
    "print(get_grade(70))  \n",
    "print(get_grade(55))  "
   ]
  },
  {
   "cell_type": "code",
   "execution_count": 133,
   "id": "de24abc2-f221-4b66-ab52-da5821384d10",
   "metadata": {},
   "outputs": [
    {
     "name": "stdout",
     "output_type": "stream",
     "text": [
      "24\n",
      "60\n"
     ]
    }
   ],
   "source": [
    "# decorator example 3\n",
    "def multiply_decorator(func):\n",
    "    def wrapper(a, b):\n",
    "        result = func(a, b)\n",
    "        return result * 2 \n",
    "    return wrapper\n",
    "\n",
    "@multiply_decorator\n",
    "def multiply(a, b):\n",
    "    return a * b\n",
    "print(multiply(3, 4)) "
   ]
  },
  {
   "cell_type": "code",
   "execution_count": 9,
   "id": "05ef2630-20fc-4b1d-af71-ca9aa7b6b5ef",
   "metadata": {},
   "outputs": [
    {
     "name": "stdin",
     "output_type": "stream",
     "text": [
      "Enter the username: admin\n",
      "Enter the password: admin@123\n"
     ]
    },
    {
     "name": "stdout",
     "output_type": "stream",
     "text": [
      "login successfully\n",
      "Product Details\n",
      "Copper,4343,5353535\n",
      "logout successfully\n",
      "None\n"
     ]
    }
   ],
   "source": [
    "# create decorator authentication\n",
    "def authentication_fun(funct):\n",
    "    username = 'admin'\n",
    "    password = 'admin@123'\n",
    "    def inner():\n",
    "        u = input(\"Enter the username:\")        \n",
    "        if username==u:\n",
    "            p = input(\"Enter the password:\")\n",
    "            if password==p:\n",
    "                print(\"login successfully\")\n",
    "                funct()\n",
    "                print(\"logout successfully\")                \n",
    "            else:\n",
    "                print(\"Password wrong,login failed\")\n",
    "        else:\n",
    "            print(\"Username wrong,login failed\")\n",
    "    return inner\n",
    "                \n",
    "\n",
    "@authentication_fun\n",
    "def conf_data():\n",
    "    print(\"Product Details\")\n",
    "    print(\"Copper,4343,5353535\")\n",
    "print(conf_data())  "
   ]
  },
  {
   "cell_type": "code",
   "execution_count": 37,
   "id": "18b1527e-4b79-4a92-b71e-7b783fc51bfe",
   "metadata": {},
   "outputs": [
    {
     "name": "stdout",
     "output_type": "stream",
     "text": [
      "{'pune': 100, 'mumbai': 200, 'chennai': 400, 'delhi': 500, 'banglore': 300}\n"
     ]
    }
   ],
   "source": [
    "#map,lambda\n",
    "#output--city (pune    - 100,mumbai  -200,banglore - 300,chennai  - 400,delhi -  500)\n",
    "\n",
    "city = ['pune', 'mumbai', 'chennai', 'delhi', 'delhi', 'banglore', 'banglore', 'pune', 'pune', 'mumbai']\n",
    "city_values = {city_name: (100 if city_name == 'pune' else\n",
    "                           200 if city_name == 'mumbai' else\n",
    "                           300 if city_name == 'banglore' else\n",
    "                           400 if city_name == 'chennai' else\n",
    "                           500) for city_name in city}\n",
    "\n",
    "print(city_values)\n"
   ]
  },
  {
   "cell_type": "code",
   "execution_count": 135,
   "id": "4658b572-fdb5-4d9d-b568-8ed7eb805dc6",
   "metadata": {},
   "outputs": [
    {
     "name": "stdout",
     "output_type": "stream",
     "text": [
      "[656, 4545, 45545, 645, 4545, 5454, 45464]\n"
     ]
    }
   ],
   "source": [
    "#p = ['656','4545','45545','645','4545','5454','45464'] convert into integer lambda function\n",
    "p = ['656', '4545', '45545', '645', '4545', '5454', '45464']\n",
    "result = list(map(lambda x: int(x), p))\n",
    "print(result)\n"
   ]
  },
  {
   "cell_type": "code",
   "execution_count": 33,
   "id": "163dc127-cf82-4365-9931-5d31ed4a3e24",
   "metadata": {},
   "outputs": [
    {
     "name": "stdout",
     "output_type": "stream",
     "text": [
      "['dsfd', 'fddf', 'xcv', 'ffg', 'dfdgdfdg', 'hgfg']\n"
     ]
    }
   ],
   "source": [
    "# Using list comprehension invalid data\n",
    "data = [[23242, 'dsfd', 'fddf', 454],[6575565, 'xcv', 'ffg', 54345, 'dfdgdfdg'],[565465, 'hgfg']]\n",
    "\n",
    "invalid_data = [item for sublist in data for item in sublist if str(item).isalpha()]\n",
    "\n",
    "print(invalid_data)\n",
    "\n",
    "\n"
   ]
  },
  {
   "cell_type": "code",
   "execution_count": 11,
   "id": "2b1e8efd-30e7-4d2e-a82e-61737a8ce056",
   "metadata": {},
   "outputs": [
    {
     "name": "stdout",
     "output_type": "stream",
     "text": [
      "{1: 1, 2: 4, 3: 9, 4: 16, 5: 25, 6: 36, 7: 49, 8: 64}\n"
     ]
    }
   ],
   "source": [
    "#dict comphrehension\n",
    "#p = [1,2,3,4,5,6,7,8]\n",
    "#output--{1:1,2:4,3:9...}\n",
    "\n",
    "p = [1, 2, 3, 4, 5, 6, 7, 8]\n",
    "result = {x: x**2 for x in p}\n",
    "print(result)"
   ]
  },
  {
   "cell_type": "code",
   "execution_count": 13,
   "id": "306db76c-99a2-4082-9f53-c843715b087b",
   "metadata": {},
   "outputs": [
    {
     "name": "stdout",
     "output_type": "stream",
     "text": [
      "{1: 2, 2: 3, 3: 4, 4: 5, 5: 6, 6: 7, 7: 8, 8: 9}\n"
     ]
    }
   ],
   "source": [
    "#p = [1,2,3,4,5,6,7,8]\n",
    "#out-{1:2,2:3,3:4,4:5,5:6,6:7,7:8]\n",
    "p = [1, 2, 3, 4, 5, 6, 7, 8]\n",
    "result = {x: x+1 for x in p}\n",
    "print(result)"
   ]
  },
  {
   "cell_type": "code",
   "execution_count": 39,
   "id": "03286806-c62d-484d-8c17-e5d5e8c206d5",
   "metadata": {},
   "outputs": [
    {
     "name": "stdout",
     "output_type": "stream",
     "text": [
      "[4356, 6084]\n"
     ]
    }
   ],
   "source": [
    "#even----square\n",
    "p = [66, 35, 75, 78, 9643]\n",
    "\n",
    "\n",
    "even_squares = list(map(lambda x: x * x, filter(lambda x: x % 2 == 0, p)))\n",
    "\n",
    "print(even_squares)\n"
   ]
  }
 ],
 "metadata": {
  "kernelspec": {
   "display_name": "Python 3 (ipykernel)",
   "language": "python",
   "name": "python3"
  },
  "language_info": {
   "codemirror_mode": {
    "name": "ipython",
    "version": 3
   },
   "file_extension": ".py",
   "mimetype": "text/x-python",
   "name": "python",
   "nbconvert_exporter": "python",
   "pygments_lexer": "ipython3",
   "version": "3.11.7"
  }
 },
 "nbformat": 4,
 "nbformat_minor": 5
}
